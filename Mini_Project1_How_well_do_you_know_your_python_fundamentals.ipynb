{
  "cells": [
    {
      "cell_type": "markdown",
      "metadata": {
        "id": "view-in-github",
        "colab_type": "text"
      },
      "source": [
        "<a href=\"https://colab.research.google.com/github/maliq414/bitnami/blob/main/Mini_Project1_How_well_do_you_know_your_python_fundamentals.ipynb\" target=\"_parent\"><img src=\"https://colab.research.google.com/assets/colab-badge.svg\" alt=\"Open In Colab\"/></a>"
      ]
    },
    {
      "cell_type": "markdown",
      "source": [
        "# **Solution to My Mini Project 1.**"
      ],
      "metadata": {
        "id": "P3dTp0wOXBom"
      },
      "id": "P3dTp0wOXBom"
    },
    {
      "cell_type": "markdown",
      "id": "1ee5ac12-5aec-40ed-bd7e-ea45842b425a",
      "metadata": {
        "id": "1ee5ac12-5aec-40ed-bd7e-ea45842b425a"
      },
      "source": [
        "# Problem Solving Activities\n",
        "\n",
        "This will consist of four problem solving acivities, where you are expected to attempt all the tasks"
      ]
    },
    {
      "cell_type": "markdown",
      "id": "97592219-3eef-49da-8dc1-085faa5f8bca",
      "metadata": {
        "id": "97592219-3eef-49da-8dc1-085faa5f8bca"
      },
      "source": [
        "## 1. Quiz Game\n",
        "\n",
        "**Task**: **Create a quiz game made up of 5 questions. The user should be able to enter in answers and the final score calculated.**\n",
        "\n",
        "**Objective**: To create a Python-based quiz game that allows users to answer 5 questions interactively and calculates their final score based on correct answers.\n",
        "\n",
        "**Acceptance Criteria**:\n",
        "\n",
        "- The quiz contains exactly five questions.\n",
        "- Questions and answers are stored in an easily modifiable structure (e.g., a list of dictionaries).\n",
        "- The user can input their answers, and responses are case-insensitive.\n",
        "- Correct answers increase the score, and incorrect answers display the correct answer.\n",
        "- The final score is displayed at the end of the quiz."
      ]
    },
    {
      "cell_type": "code",
      "source": [
        "# Step 1: Define the questions and answers\n",
        "quiz = [\n",
        "    {\"question\": \"What is the capital of France?\", \"answer\": \"Paris\"},\n",
        "    {\"question\": \"What is 5 multiplied by 6?\", \"answer\": \"30\"},\n",
        "    {\"question\": \"What language is this quiz written in?\", \"answer\": \"Python\"},\n",
        "    {\"question\": \"Who is the president of the United States (2024)?\", \"answer\": \"Joe Biden\"},\n",
        "    {\"question\": \"What color do you get when you mix red and white?\", \"answer\": \"Pink\"}\n",
        "]\n",
        "\n",
        "# Step 2: Initialize the score\n",
        "score = 0\n",
        "\n",
        "# Step 3: Loop through each question\n",
        "for item in quiz:\n",
        "    user_answer = input(item[\"question\"] + \" \").strip()\n",
        "\n",
        "    # Step 4: Compare case-insensitive answers\n",
        "    if user_answer.lower() == item[\"answer\"].lower():\n",
        "        print(\"Correct!\\n\")\n",
        "        score += 1\n",
        "    else:\n",
        "        print(f\"Wrong! The correct answer is: {item['answer']}\\n\")\n",
        "\n",
        "# Step 5: Display final score\n",
        "print(f\"Quiz completed! Your final score is {score} out of {len(quiz)}.\")"
      ],
      "metadata": {
        "id": "F2e1r_U91XIc",
        "outputId": "1f56a127-e09f-4953-9fbd-1145ea06ec97",
        "colab": {
          "base_uri": "https://localhost:8080/"
        }
      },
      "id": "F2e1r_U91XIc",
      "execution_count": null,
      "outputs": [
        {
          "output_type": "stream",
          "name": "stdout",
          "text": [
            "What is the capital of France? Paris\n",
            "Correct!\n",
            "\n",
            "What is 5 multiplied by 6? 30\n",
            "Correct!\n",
            "\n",
            "What language is this quiz written in? English\n",
            "Wrong! The correct answer is: Python\n",
            "\n",
            "Who is the president of the United States (2024)? Joe Biden\n",
            "Correct!\n",
            "\n",
            "What color do you get when you mix red and white? Black\n",
            "Wrong! The correct answer is: Pink\n",
            "\n",
            "Quiz completed! Your final score is 3 out of 5.\n"
          ]
        }
      ]
    },
    {
      "cell_type": "markdown",
      "id": "79ed75a7-3b62-42c8-bb3d-cf31f523508f",
      "metadata": {
        "id": "79ed75a7-3b62-42c8-bb3d-cf31f523508f"
      },
      "source": [
        "## 2. Number Swapping\n",
        "\n",
        "**Task**: **Swapping two numbers in Python.**\n",
        "\n",
        "**Objective**: Create a Python program that swaps two numbers entered by the user and displays the values before and after swapping.\n",
        "\n",
        "**Acceptance Criteria**:\n",
        "- The program accepts two numbers as input from the user.\n",
        "- The numbers are displayed before and after swapping.\n",
        "- The program uses Python’s tuple unpacking for swapping.\n",
        "- Invalid input (non-numeric) is handled gracefully with an error message.\n",
        "- The program successfully swaps the values without requiring a temporary variable."
      ]
    },
    {
      "cell_type": "code",
      "source": [
        "#Step-by-Step Plan\n",
        "#Ask the user to input two numbers\n",
        "#Validate if the inputs are numeric (handle errors with try-except)\n",
        "#Display the numbers before swapping\n",
        "#Swap the numbers using tuple unpacking (not a temporary variable!)\n",
        "#Display the numbers after swapping\n",
        "\n",
        "try:\n",
        "    # Step 1: Get user input\n",
        "    num1 = float(input(\"Enter the first number: \"))\n",
        "    num2 = float(input(\"Enter the second number: \"))\n",
        "\n",
        "    # Step 2: Display before swapping\n",
        "    print(f\"\\nBefore swapping:\\nFirst number = {num1}\\nSecond number = {num2}\")\n",
        "\n",
        "    # Step 3: Swap using tuple unpacking\n",
        "    num1, num2 = num2, num1\n",
        "\n",
        "    # Step 4: Display after swapping\n",
        "    print(f\"\\nAfter swapping:\\nFirst number = {num1}\\nSecond number = {num2}\")\n",
        "\n",
        "except ValueError:\n",
        "    print(\"\\nError: Please enter valid numeric values!\")\n"
      ],
      "metadata": {
        "id": "VdZeIQl6-VZl",
        "outputId": "6cd5a120-f969-46fc-a1f8-eb0c3a1f0f1f",
        "colab": {
          "base_uri": "https://localhost:8080/"
        }
      },
      "id": "VdZeIQl6-VZl",
      "execution_count": null,
      "outputs": [
        {
          "output_type": "stream",
          "name": "stdout",
          "text": [
            "Enter the first number: 2\n",
            "Enter the second number: 3\n",
            "\n",
            "Before swapping:\n",
            "First number = 2.0\n",
            "Second number = 3.0\n",
            "\n",
            "After swapping:\n",
            "First number = 3.0\n",
            "Second number = 2.0\n"
          ]
        }
      ]
    },
    {
      "cell_type": "markdown",
      "id": "0f8c8201-65a2-415c-8890-693cfe0bd412",
      "metadata": {
        "id": "0f8c8201-65a2-415c-8890-693cfe0bd412"
      },
      "source": [
        "## 3. Prime/Armstrong/Palindrome Number Identifier\n",
        "\n",
        "**Task**: **Write a code/logic to determine if the value entered is a Prime number, an Armstrong Number or a Palindrome number.**\n",
        "\n",
        "**Objective**: To create a Python program that checks whether a user-entered number is a Prime number, Armstrong number, or Palindrome, and displays the results accordingly.\n",
        "\n",
        "**Acceptance Criteria**:\n",
        "- The program accepts a single integer input from the user.\n",
        "- It checks and identifies if the number is a:\n",
        "    - Prime number: A number greater than 1 that is divisible only by 1 and itself.\n",
        "    - Armstrong number: A number equal to the sum of its digits raised to the power of the number of digits.\n",
        "    - Palindrome: A number that reads the same backward as forward.\n",
        "- The program displays appropriate messages for each property satisfied by the number.\n",
        "- If the number does not meet any criteria, a message is displayed stating so.\n",
        "- Non-integer input is handled gracefully with an error message."
      ]
    },
    {
      "cell_type": "code",
      "source": [
        "#Step-by-Step Plan:\n",
        "#Get input from the user\n",
        "#Validate: Ensure the input is an integer (Handle invalid input.)\n",
        "#Check if it’s:\n",
        "  #A Prime number\n",
        "  #An Armstrong number\n",
        "  #A Palindrome number\n",
        "#Display messages based on what the number satisfies\n",
        "#If none, say that it satisfies none\n",
        "\n",
        "def is_prime(n):\n",
        "    if n <= 1:\n",
        "        return False\n",
        "    for i in range(2, int(n ** 0.5) + 1):\n",
        "        if n % i == 0:\n",
        "            return False\n",
        "    return True\n",
        "\n",
        "def is_armstrong(n):\n",
        "    num_str = str(n)\n",
        "    num_len = len(num_str)\n",
        "    total = sum(int(digit) ** num_len for digit in num_str)\n",
        "    return total == n\n",
        "\n",
        "def is_palindrome(n):\n",
        "    return str(n) == str(n)[::-1]\n",
        "\n",
        "try:\n",
        "    # Step 1: Get user input\n",
        "    num = int(input(\"Enter an integer: \"))\n",
        "\n",
        "    # Step 2: Check properties\n",
        "    prime = is_prime(num)\n",
        "    armstrong = is_armstrong(num)\n",
        "    palindrome = is_palindrome(num)\n",
        "\n",
        "    # Step 3: Display results\n",
        "    print(\"\\nResults:\")\n",
        "    if prime:\n",
        "        print(f\"- {num} is a Prime number.\")\n",
        "    if armstrong:\n",
        "        print(f\"- {num} is an Armstrong number.\")\n",
        "    if palindrome:\n",
        "        print(f\"- {num} is a Palindrome number.\")\n",
        "    if not (prime or armstrong or palindrome):\n",
        "        print(f\"- {num} does not satisfy Prime, Armstrong, or Palindrome properties.\")\n",
        "\n",
        "except ValueError:\n",
        "    print(\"\\nError: Please enter a valid integer!\")"
      ],
      "metadata": {
        "id": "cs-cWBey_8vC",
        "outputId": "5b28237b-7074-49c0-fb50-415cb42b6753",
        "colab": {
          "base_uri": "https://localhost:8080/"
        }
      },
      "id": "cs-cWBey_8vC",
      "execution_count": null,
      "outputs": [
        {
          "output_type": "stream",
          "name": "stdout",
          "text": [
            "Enter an integer: 121\n",
            "\n",
            "Results:\n",
            "- 121 is a Palindrome number.\n"
          ]
        }
      ]
    },
    {
      "cell_type": "markdown",
      "id": "d0eb118f-70e2-483c-ac16-9373fec0ae05",
      "metadata": {
        "id": "d0eb118f-70e2-483c-ac16-9373fec0ae05"
      },
      "source": [
        "## 4. The Fibonacci Sequence\n",
        "\n",
        "**Task**: **Generate the Fibonacci Sequence.**\n",
        "\n",
        "**Objective**: To create a Python program that generates the first n terms of the Fibonacci sequence based on user input.\n",
        "\n",
        "**Acceptance Criteria**:\n",
        "- The program accepts a positive integer input (n) from the user.\n",
        "- It generates and displays the first n terms of the Fibonacci sequence.\n",
        "- The Fibonacci sequence is calculated iteratively.\n",
        "- If the input is zero or negative, an appropriate error message is displayed.\n",
        "- Non-integer input is handled gracefully with an error message."
      ]
    },
    {
      "cell_type": "code",
      "source": [
        "#Step-by-Step Plan:\n",
        "#Ask the user for a number n.\n",
        "#Validate input:\n",
        "#Must be a positive integer.\n",
        "#Handle non-integer gracefully.\n",
        "#Generate the Fibonacci sequence iteratively.\n",
        "#Display the sequence clearly.\n",
        "\n",
        "try:\n",
        "    # Step 1: Get input from the user\n",
        "    n = int(input(\"Enter the number of Fibonacci terms to generate: \"))\n",
        "\n",
        "    # Step 2: Validate input\n",
        "    if n <= 0:\n",
        "        print(\"\\nError: Please enter a positive integer greater than zero.\")\n",
        "    else:\n",
        "        fib_sequence = []  # Empty list to store Fibonacci numbers\n",
        "        a, b = 0, 1  # First two Fibonacci numbers\n",
        "\n",
        "        for _ in range(n):\n",
        "            fib_sequence.append(a)\n",
        "            a, b = b, a + b  # Update values\n",
        "\n",
        "        # Step 3: Display the sequence\n",
        "        print(f\"\\nThe first {n} terms of the Fibonacci sequence are:\")\n",
        "        print(fib_sequence)\n",
        "\n",
        "except ValueError:\n",
        "    print(\"\\nError: Invalid input! Please enter a valid positive integer.\")\n"
      ],
      "metadata": {
        "id": "f0uDZsbtBK2S",
        "outputId": "6bf5a8d9-a923-46cc-9a0b-7d886e90a633",
        "colab": {
          "base_uri": "https://localhost:8080/"
        }
      },
      "id": "f0uDZsbtBK2S",
      "execution_count": null,
      "outputs": [
        {
          "output_type": "stream",
          "name": "stdout",
          "text": [
            "Enter the number of Fibonacci terms to generate: 10\n",
            "\n",
            "The first 10 terms of the Fibonacci sequence are:\n",
            "[0, 1, 1, 2, 3, 5, 8, 13, 21, 34]\n"
          ]
        }
      ]
    }
  ],
  "metadata": {
    "kernelspec": {
      "display_name": "Python 3 (ipykernel)",
      "language": "python",
      "name": "python3"
    },
    "language_info": {
      "codemirror_mode": {
        "name": "ipython",
        "version": 3
      },
      "file_extension": ".py",
      "mimetype": "text/x-python",
      "name": "python",
      "nbconvert_exporter": "python",
      "pygments_lexer": "ipython3",
      "version": "3.12.7"
    },
    "colab": {
      "provenance": [],
      "include_colab_link": true
    }
  },
  "nbformat": 4,
  "nbformat_minor": 5
}